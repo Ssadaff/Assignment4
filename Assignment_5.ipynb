{
  "nbformat": 4,
  "nbformat_minor": 0,
  "metadata": {
    "colab": {
      "provenance": [],
      "authorship_tag": "ABX9TyP2wZVDmbs/cv63/ka7Ec0o",
      "include_colab_link": true
    },
    "kernelspec": {
      "name": "python3",
      "display_name": "Python 3"
    },
    "language_info": {
      "name": "python"
    }
  },
  "cells": [
    {
      "cell_type": "markdown",
      "metadata": {
        "id": "view-in-github",
        "colab_type": "text"
      },
      "source": [
        "<a href=\"https://colab.research.google.com/github/Ssadaff/Assignment4/blob/main/Assignment_5.ipynb\" target=\"_parent\"><img src=\"https://colab.research.google.com/assets/colab-badge.svg\" alt=\"Open In Colab\"/></a>"
      ]
    },
    {
      "cell_type": "markdown",
      "source": [],
      "metadata": {
        "id": "EcQxN4W2xI8P"
      }
    },
    {
      "cell_type": "markdown",
      "source": [
        "**Question 1: Ticket Pricing System**"
      ],
      "metadata": {
        "id": "p8fGWjujxDXK"
      }
    },
    {
      "cell_type": "code",
      "source": [
        "# User age\n",
        "age = int(input('Enter your age:'))\n",
        "\n",
        "# ticket price based on these conditions\n",
        "if age < 5:\n",
        "  print('Free')\n",
        "elif age >= 5 and age <=17:\n",
        "  print('Ticket: 10 $')\n",
        "elif age >= 18 and age <= 60:\n",
        "  print('Ticket: 20 $')\n",
        "else :\n",
        "  print('Tickey: 15 $')"
      ],
      "metadata": {
        "id": "UB2Wzs7nw-K_"
      },
      "execution_count": null,
      "outputs": []
    },
    {
      "cell_type": "markdown",
      "source": [
        "**Question 2: Meal Recommendation**"
      ],
      "metadata": {
        "id": "tlVxGditxysO"
      }
    },
    {
      "cell_type": "code",
      "execution_count": 17,
      "metadata": {
        "id": "nP8IZQiN68mH",
        "colab": {
          "base_uri": "https://localhost:8080/"
        },
        "outputId": "668a5f72-0281-4daf-ca40-2da34edc53cc"
      },
      "outputs": [
        {
          "output_type": "stream",
          "name": "stdout",
          "text": [
            "Enter meal time:14\n",
            "Lunch\n"
          ]
        }
      ],
      "source": [
        "# Meal Recommendation\n",
        "# user to enter time in 24-hour format\n",
        "\n",
        "time = int(input('Enter meal time:'))\n",
        "if time >= 5 and time <= 11:\n",
        "  print('Breakfast')\n",
        "elif time >= 12 and time<= 16:\n",
        "   print('Lunch')\n",
        "elif time >= 17 and time <= 21:\n",
        "    print('Dinner')\n",
        "else:\n",
        "    print('Late night snack')\n"
      ]
    },
    {
      "cell_type": "markdown",
      "source": [
        "**Question 3: Grocery Bill Calculator**"
      ],
      "metadata": {
        "id": "tci_esJq51Es"
      }
    },
    {
      "cell_type": "code",
      "source": [
        "\n",
        "\n",
        "# Input prices of 5 items\n",
        "item1 = float(input(\"Enter price of item 1: \"))\n",
        "item2 = float(input(\"Enter price of item 2: \"))\n",
        "item3 = float(input(\"Enter price of item 3: \"))\n",
        "item4 = float(input(\"Enter price of item 4: \"))\n",
        "item5 = float(input(\"Enter price of item 5: \"))\n",
        "\n",
        "# Calculate total bill\n",
        "total_bill = item1 + item2 + item3 + item4 + item5\n",
        "# Print the final bill\n",
        "print(f\"Total Bill: ${total_bill:.2f}\")\n",
        "\n",
        "# Check if discount is applicable\n",
        "if total_bill > 100:\n",
        "    total_bill *= 0.9  # Apply 10% discount\n",
        "\n",
        "# Print the final bill\n",
        "print(f\"Discounted Bill: ${total_bill:.2f}\")\n",
        "\n"
      ],
      "metadata": {
        "id": "G-uWnWoR57-8",
        "colab": {
          "base_uri": "https://localhost:8080/"
        },
        "outputId": "0834cd84-8ad2-49fb-9bef-901ebd3f17cc"
      },
      "execution_count": 3,
      "outputs": [
        {
          "output_type": "stream",
          "name": "stdout",
          "text": [
            "Enter price of item 1: 67\n",
            "Enter price of item 2: 78\n",
            "Enter price of item 3: 89\n",
            "Enter price of item 4: 09\n",
            "Enter price of item 5: 67\n",
            "Total Bill: $310.00\n",
            "Discounted Bill: $279.00\n"
          ]
        }
      ]
    },
    {
      "cell_type": "markdown",
      "source": [
        "**Question 4: Username Validator**"
      ],
      "metadata": {
        "id": "QR-vOurZEssz"
      }
    },
    {
      "cell_type": "code",
      "source": [
        "# Input username\n",
        "username = input(\"Enter a username: \")\n",
        "\n",
        "# Check if the username is valid\n",
        "if 5 <= len(username) <= 15 and username[0].isalpha():\n",
        "    print(\"The username is valid.\")\n",
        "else:\n",
        "    print(\"The username is invalid.\")"
      ],
      "metadata": {
        "colab": {
          "base_uri": "https://localhost:8080/"
        },
        "id": "7tT9c1N5ErcX",
        "outputId": "4c8a6b88-02a6-4789-fce5-9ca07231d01d"
      },
      "execution_count": 4,
      "outputs": [
        {
          "output_type": "stream",
          "name": "stdout",
          "text": [
            "Enter a username: sadaf\n",
            "The username is valid.\n"
          ]
        }
      ]
    },
    {
      "cell_type": "markdown",
      "source": [
        "**Question 5: Travel Destination Suggestion**"
      ],
      "metadata": {
        "id": "x1AOZewHF59q"
      }
    },
    {
      "cell_type": "code",
      "source": [
        "# Ask the user for their preferred weather\n",
        "weather = input(\"What is your preferred weather? (Sunny, Rainy, or Snowy): \")\n",
        "\n",
        "# Suggest a travel destination based on the weather\n",
        "if weather.lower() == \"sunny\":\n",
        "    print(\"Go to the beach!\")\n",
        "elif weather.lower() == \"rainy\":\n",
        "    print(\"Visit a cozy mountain lodge!\")\n",
        "elif weather.lower() == \"snowy\":\n",
        "    print(\"Time for a ski trip!\")\n",
        "else:\n",
        "    print(\"Sorry, I don't have a suggestion for that weather!\")"
      ],
      "metadata": {
        "colab": {
          "base_uri": "https://localhost:8080/"
        },
        "id": "j36wy6FdFsQe",
        "outputId": "2ae40abb-8958-4128-da6a-1730e75b6930"
      },
      "execution_count": 7,
      "outputs": [
        {
          "output_type": "stream",
          "name": "stdout",
          "text": [
            "What is your preferred weather? (Sunny, Rainy, or Snowy): sunny\n",
            "Go to the beach!\n"
          ]
        }
      ]
    },
    {
      "cell_type": "markdown",
      "source": [
        "**Question 6: Discount Eligibility Checker**"
      ],
      "metadata": {
        "id": "HY7S0aCNGc7W"
      }
    },
    {
      "cell_type": "code",
      "source": [
        "# Ask for the total amount spent\n",
        "amount = float(input(\"Enter the total amount spent: \"))\n",
        "\n",
        "# Ask if the user is a loyalty program member\n",
        "is_member = input(\"Are you a loyalty program member? (Yes/No): \")\n",
        "\n",
        "# Check if the user is eligible for a discount\n",
        "if amount > 200 or is_member.lower() == \"yes\":\n",
        "    print(\"You are eligible for a 15% discount!\")\n",
        "else:\n",
        "    print(\"You are not eligible for a discount.\")"
      ],
      "metadata": {
        "colab": {
          "base_uri": "https://localhost:8080/"
        },
        "id": "J0pvyTwJGfAp",
        "outputId": "f5653704-7d00-4cab-8be6-d94813d76c0a"
      },
      "execution_count": 8,
      "outputs": [
        {
          "output_type": "stream",
          "name": "stdout",
          "text": [
            "Enter the total amount spent: 456\n",
            "Are you a loyalty program member? (Yes/No): yes\n",
            "You are eligible for a 15% discount!\n"
          ]
        }
      ]
    },
    {
      "cell_type": "markdown",
      "source": [
        "**Question 7: Event Invitation**"
      ],
      "metadata": {
        "id": "VabtlBwFG5W5"
      }
    },
    {
      "cell_type": "code",
      "source": [
        "# List of invited guests\n",
        "guests = [\"Alina\", \"Bushra\", \"Chandni\", \"Durre\", \"Erum\"]\n",
        "\n",
        "# Ask for the user's name\n",
        "name = input(\"What is your name? \")\n",
        "\n",
        "# Check if the user is invited\n",
        "if name in guests:\n",
        "    print(\"You are invited!\")\n",
        "else:\n",
        "    print(\"You are not invited.\")"
      ],
      "metadata": {
        "colab": {
          "base_uri": "https://localhost:8080/"
        },
        "id": "Ut9cVZnwG8JC",
        "outputId": "508c3218-6ab5-49e2-9978-0d1e691dcae1"
      },
      "execution_count": 10,
      "outputs": [
        {
          "output_type": "stream",
          "name": "stdout",
          "text": [
            "What is your name? Bushra\n",
            "You are invited!\n"
          ]
        }
      ]
    },
    {
      "cell_type": "markdown",
      "source": [
        "\n",
        "Question 8: Movie Streaming Eligibility **bold text**"
      ],
      "metadata": {
        "id": "41guE2PaHesc"
      }
    },
    {
      "cell_type": "code",
      "source": [
        "# Ask the user for their age\n",
        "age = int(input(\"Enter your age: \"))\n",
        "\n",
        "# Ask the user for the type of movie they want to watch\n",
        "movie_type = input(\"What type of movie do you want to watch? (Action, Animated, Documentary): \")\n",
        "\n",
        "# Check eligibility\n",
        "if movie_type.lower() == \"action\" and age >= 18:\n",
        "    print(\"You can watch Action Movies.\")\n",
        "elif movie_type.lower() == \"animated\":\n",
        "    print(\"You can watch Animated Movies.\")\n",
        "elif movie_type.lower() == \"documentary\" and age >= 12:\n",
        "    print(\"You can watch Documentaries.\")\n",
        "else:\n",
        "    print(\"You are not eligible to watch this type of movie.\")"
      ],
      "metadata": {
        "colab": {
          "base_uri": "https://localhost:8080/"
        },
        "id": "QuyCBeiFHnuQ",
        "outputId": "b63df1cd-9d8e-404e-df70-4dd23ed7e76b"
      },
      "execution_count": 12,
      "outputs": [
        {
          "output_type": "stream",
          "name": "stdout",
          "text": [
            "Enter your age: 12\n",
            "What type of movie do you want to watch? (Action, Animated, Documentary): animated\n",
            "You can watch Animated Movies.\n"
          ]
        }
      ]
    },
    {
      "cell_type": "markdown",
      "source": [
        "**Question 9: Phone Number Formatter**"
      ],
      "metadata": {
        "id": "CyYwtQDqIMQD"
      }
    },
    {
      "cell_type": "code",
      "source": [
        "# Ask the user for their phone number\n",
        "phone_number = input(\"Enter your phone number (1234567890): \")\n",
        "\n",
        "# Format the phone number\n",
        "formatted_number = f\"({phone_number[:3]}) {phone_number[3:6]}-{phone_number[6:]}\"\n",
        "\n",
        "# Print the formatted phone number\n",
        "print(\"Formatted Phone Number:\", formatted_number)"
      ],
      "metadata": {
        "colab": {
          "base_uri": "https://localhost:8080/"
        },
        "id": "xfwRombBIQ-j",
        "outputId": "63bba436-064e-4995-c25e-86c1788d2fad"
      },
      "execution_count": 13,
      "outputs": [
        {
          "output_type": "stream",
          "name": "stdout",
          "text": [
            "Enter your phone number (1234567890): 776588998765\n",
            "Formatted Phone Number: (776) 588-998765\n"
          ]
        }
      ]
    },
    {
      "cell_type": "markdown",
      "source": [
        "Question 10: Shipping Cost for Packages**"
      ],
      "metadata": {
        "id": "xOFHKnc0IvuE"
      }
    },
    {
      "cell_type": "code",
      "source": [
        "# Ask the user for the weight of the package\n",
        "weight = float(input(\"Enter the weight of the package (in kg): \"))\n",
        "\n",
        "# Determine the shipping cost\n",
        "if weight <= 1:\n",
        "    cost = 5\n",
        "elif weight <= 5:\n",
        "    cost = 10\n",
        "elif weight <= 20:\n",
        "    cost = 20\n",
        "else:\n",
        "    cost = 50\n",
        "\n",
        "# Print the shipping cost\n",
        "print(\"The shipping cost is $\", cost)"
      ],
      "metadata": {
        "colab": {
          "base_uri": "https://localhost:8080/"
        },
        "id": "wN9-113PI-Nd",
        "outputId": "e1fd1b5c-be6f-4fd1-ab3f-d20faaf9a16a"
      },
      "execution_count": 14,
      "outputs": [
        {
          "output_type": "stream",
          "name": "stdout",
          "text": [
            "Enter the weight of the package (in kg): 7\n",
            "The shipping cost is $ 20\n"
          ]
        }
      ]
    },
    {
      "cell_type": "markdown",
      "source": [
        "**Question 11: Student Grading System**"
      ],
      "metadata": {
        "id": "BnUPbwLeJZY8"
      }
    },
    {
      "cell_type": "code",
      "source": [
        "# Input marks for five subjects\n",
        "s1 = int(input(\"Enter marks for Subject 1: \"))\n",
        "s2 = int(input(\"Enter marks for Subject 2: \"))\n",
        "s3 = int(input(\"Enter marks for Subject 3: \"))\n",
        "s4 = int(input(\"Enter marks for Subject 4: \"))\n",
        "s5 = int(input(\"Enter marks for Subject 5: \"))\n",
        "\n",
        "# Calculate total and percentage\n",
        "total = s1 + s2 + s3 + s4 + s5\n",
        "percentage = total / 5\n",
        "\n",
        "# Determine grade\n",
        "if percentage >= 90:\n",
        "    grade = \"A\"\n",
        "elif percentage >= 80:\n",
        "    grade = \"B\"\n",
        "elif percentage >= 70:\n",
        "    grade = \"C\"\n",
        "elif percentage >= 60:\n",
        "    grade = \"D\"\n",
        "else:\n",
        "    grade = \"F\"\n",
        "\n",
        "# Check pass or fail\n",
        "if s1 >= 60 and s2 >= 60 and s3 >= 60 and s4 >= 60 and s5 >= 60:\n",
        "    status = \"Passed\"\n",
        "else:\n",
        "    status = \"Failed\"\n",
        "\n",
        "# Print results\n",
        "print(\"Total Marks:\", total)\n",
        "print(\"Percentage:\", percentage)\n",
        "print(\"Grade:\", grade)\n",
        "print(\"Status:\", status)\n"
      ],
      "metadata": {
        "colab": {
          "base_uri": "https://localhost:8080/"
        },
        "id": "2QHBrvzsJf2h",
        "outputId": "952b2fcc-4eb1-4891-cfab-0015e0af9c90"
      },
      "execution_count": 15,
      "outputs": [
        {
          "output_type": "stream",
          "name": "stdout",
          "text": [
            "Enter marks for Subject 1: 56\n",
            "Enter marks for Subject 2: 78\n",
            "Enter marks for Subject 3: 98\n",
            "Enter marks for Subject 4: 34\n",
            "Enter marks for Subject 5: 88\n",
            "Total Marks: 354\n",
            "Percentage: 70.8\n",
            "Grade: C\n",
            "Status: Failed\n"
          ]
        }
      ]
    }
  ]
}