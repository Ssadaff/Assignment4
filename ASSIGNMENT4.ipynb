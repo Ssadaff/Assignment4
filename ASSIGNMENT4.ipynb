{
  "nbformat": 4,
  "nbformat_minor": 0,
  "metadata": {
    "colab": {
      "provenance": [],
      "authorship_tag": "ABX9TyNfGiKLC3z3UpD9Q/ncaxxp",
      "include_colab_link": true
    },
    "kernelspec": {
      "name": "python3",
      "display_name": "Python 3"
    },
    "language_info": {
      "name": "python"
    }
  },
  "cells": [
    {
      "cell_type": "markdown",
      "metadata": {
        "id": "view-in-github",
        "colab_type": "text"
      },
      "source": [
        "<a href=\"https://colab.research.google.com/github/Ssadaff/Assignment4/blob/main/ASSIGNMENT4.ipynb\" target=\"_parent\"><img src=\"https://colab.research.google.com/assets/colab-badge.svg\" alt=\"Open In Colab\"/></a>"
      ]
    },
    {
      "cell_type": "markdown",
      "source": [
        "**Names**"
      ],
      "metadata": {
        "id": "46B77KzaHVFA"
      }
    },
    {
      "cell_type": "code",
      "execution_count": null,
      "metadata": {
        "colab": {
          "base_uri": "https://localhost:8080/"
        },
        "id": "UTrlRl1THR8n",
        "outputId": "a29e19f3-fe50-4208-caa1-9be09441565e"
      },
      "outputs": [
        {
          "output_type": "stream",
          "name": "stdout",
          "text": [
            "['Sahar', 'Asma', 'Fariha', 'Khujusta', 'Uzma', 'Sana']\n",
            "Sahar\n",
            "Asma\n",
            "Fariha\n",
            "Khujusta\n",
            "Uzma\n",
            "Sana\n"
          ]
        }
      ],
      "source": [
        "# List of Friends names\n",
        "names = [\"Sahar\", \"Asma\", \"Fariha\", \"Khujusta\", \"Uzma\", \"Sana\"]\n",
        "print(names)\n",
        "\n",
        "# Each name at one time\n",
        "for name in names:\n",
        "    print(name)"
      ]
    },
    {
      "cell_type": "markdown",
      "source": [
        "**Greetings**"
      ],
      "metadata": {
        "id": "HWVIzKGYHTOZ"
      }
    },
    {
      "cell_type": "code",
      "source": [
        "# Same greetings for each friend\n",
        "\n",
        "names = [\"Sahar\", \"Asma\", \"Fariha\", \"Khujusta\", \"Uzma\", \"Sana\"]\n",
        "for name in names:\n",
        "    print(\"Hello \" + name + \"!\")"
      ],
      "metadata": {
        "colab": {
          "base_uri": "https://localhost:8080/"
        },
        "id": "4SBEJX8fMcsw",
        "outputId": "f001b548-796f-4357-b56e-a4922378f3e3"
      },
      "execution_count": null,
      "outputs": [
        {
          "output_type": "stream",
          "name": "stdout",
          "text": [
            "Hello Sahar!\n",
            "Hello Asma!\n",
            "Hello Fariha!\n",
            "Hello Khujusta!\n",
            "Hello Uzma!\n",
            "Hello Sana!\n"
          ]
        }
      ]
    },
    {
      "cell_type": "markdown",
      "source": [
        "**Your Own List**"
      ],
      "metadata": {
        "id": "VrB_5jpLNNf6"
      }
    },
    {
      "cell_type": "code",
      "source": [
        "# My Favorite Cars\n",
        "cars= [\"Tesla\", \"BMW\", \"Audi\", \"Ferrari\", \"Mercedes\"]\n",
        "print(cars)\n",
        "\n",
        "# Different statements about my favorite cars\n",
        "for car in cars:\n",
        "    if car == \"Ferrari\":\n",
        "        print(f\"I love {car} too!\")\n",
        "    elif car == \"Tesla\":\n",
        "        print(f\"My dream car is {car}!\")\n",
        "    elif car == \"BMW\":\n",
        "        print(f\"{car} shape is amazing!\")\n",
        "    elif car ==\"Audi\":\n",
        "        print(f\"I'll buy {car} in future!\")\n",
        "    elif car ==\"Mercedes\":\n",
        "        print(f\"My father had {car}!\")\n"
      ],
      "metadata": {
        "colab": {
          "base_uri": "https://localhost:8080/"
        },
        "id": "1TPZHv6MNaD9",
        "outputId": "88e8dc68-b18e-431c-fbb2-272b5994bdc6"
      },
      "execution_count": null,
      "outputs": [
        {
          "output_type": "stream",
          "name": "stdout",
          "text": [
            "['Tesla', 'BMW', 'Audi', 'Ferrari', 'Mercedes']\n",
            "My dream car is Tesla!\n",
            "BMW shape is amazing!\n",
            "I'll buy Audi in future!\n",
            "I love Ferrari too!\n",
            "My father had Mercedes!\n"
          ]
        }
      ]
    },
    {
      "cell_type": "markdown",
      "source": [
        "**Guest List**"
      ],
      "metadata": {
        "id": "1NazWu8GjbjA"
      }
    },
    {
      "cell_type": "code",
      "source": [
        "# List of guests who are invited for dinner\n",
        "\n",
        "guests=(\"Alina\",\"Maha\",\"Myra\",\"Ammen\",\"Rameen\")\n",
        "print(guests)\n",
        "\n",
        "# Messages for each guest invite\n",
        "for guest in guests:\n",
        "  if guest == \"Alina\":\n",
        "    print(f\"Hello {guest}, I would like to invite you for dinner!\")\n",
        "  elif guest == \"Maha\":\n",
        "    print(f\"Dear {guest}, your presence will make this dinner special!\")\n",
        "  elif guest == \"Myra\":\n",
        "    print(f\"Hey {guest}, please don't be late!\")\n",
        "  elif guest == \"Ammen\":\n",
        "    print(f\"{guest},You have no idea, how excited I am to see you!\")\n",
        "  elif guest == \"Rameen\":\n",
        "    print(f\"Hi {guest}, ill be waiting for you!\")"
      ],
      "metadata": {
        "colab": {
          "base_uri": "https://localhost:8080/"
        },
        "id": "Uf2gRJfGjghX",
        "outputId": "9cb6b269-0df0-4cbf-bef8-82ce188ea2d3"
      },
      "execution_count": null,
      "outputs": [
        {
          "output_type": "stream",
          "name": "stdout",
          "text": [
            "('Alina', 'Maha', 'Myra', 'Ammen', 'Rameen')\n",
            "Hello Alina, I would like to invite you for dinner!\n",
            "Dear Maha, your presence will make this dinner special!\n",
            "Hey Myra, please don't be late!\n",
            "Ammen,You have no idea, how excited I am to see you!\n",
            "Hi Rameen, ill be waiting for you!\n"
          ]
        }
      ]
    },
    {
      "cell_type": "markdown",
      "source": [
        "**Changing Guests List**"
      ],
      "metadata": {
        "id": "9DyscZ7QndC_"
      }
    },
    {
      "cell_type": "code",
      "source": [
        "# Guests List\n",
        "\n",
        "guests=[\"Alina\",\"Maha\",\"Myra\",\"Ammen\",\"Rameen\"]\n",
        "print(guests)\n",
        "\n",
        "# The invitations sent\n",
        "\n",
        "for guest in guests:\n",
        "  if guest == \"Alina\":\n",
        "    print(f\"Hello {guest}, I would like to invite you for dinner!\")\n",
        "  elif guest == \"Maha\":\n",
        "    print(f\"Dear {guest}, your presence will make this dinner special!\")\n",
        "  elif guest == \"Myra\":\n",
        "    print(f\"Hey {guest}, please don't be late!\")\n",
        "  elif guest == \"Ammen\":\n",
        "    print(f\"{guest},You have no idea, how excited I am to see you!\")\n",
        "  elif guest == \"Rameen\":\n",
        "    print(f\"Hi {guest}, ill be waiting for you!\")\n",
        "\n",
        "# State who can’t make it\n",
        "print(\"\\nUnfortunately, Maha can't make it to dinner.\")\n",
        "\n",
        "# Modify the list (replace the guest who can’t make it with a new guest)\n",
        "guests[1]=\"Sarah\"\n",
        "print(\"\\nModified list:\")\n",
        "print(guests)\n",
        "\n",
        "# Print New invitations\n",
        "print(\"\\nNew invitations:\")\n",
        "for guest in guests:\n",
        "  if guest == \"Alina\":\n",
        "    print(f\"Hello {guest}, I would like to invite you for dinner!\")\n",
        "  elif guest == \"Sarah\":\n",
        "    print(f\"Dear {guest}, your presence will make this dinner special!\")\n",
        "  elif guest == \"Myra\":\n",
        "    print(f\"Hey {guest}, please don't be late!\")\n",
        "  elif guest == \"Ammen\":\n",
        "    print(f\"{guest},You have no idea, how excited I am to see you!\")\n",
        "  elif guest == \"Rameen\":\n",
        "    print(f\"Hi {guest}, ill be waiting for you!\")\n"
      ],
      "metadata": {
        "colab": {
          "base_uri": "https://localhost:8080/"
        },
        "id": "63cEIgJRnhNq",
        "outputId": "496e8824-66d4-44df-8d30-73586555f599"
      },
      "execution_count": null,
      "outputs": [
        {
          "output_type": "stream",
          "name": "stdout",
          "text": [
            "['Alina', 'Maha', 'Myra', 'Ammen', 'Rameen']\n",
            "Hello Alina, I would like to invite you for dinner!\n",
            "Dear Maha, your presence will make this dinner special!\n",
            "Hey Myra, please don't be late!\n",
            "Ammen,You have no idea, how excited I am to see you!\n",
            "Hi Rameen, ill be waiting for you!\n",
            "\n",
            "Unfortunately, Maha can't make it to dinner.\n",
            "\n",
            "Modified list:\n",
            "['Alina', 'Sarah', 'Myra', 'Ammen', 'Rameen']\n",
            "\n",
            "New invitations:\n",
            "Hello Alina, I would like to invite you for dinner!\n",
            "Dear Sarah, your presence will make this dinner special!\n",
            "Hey Myra, please don't be late!\n",
            "Ammen,You have no idea, how excited I am to see you!\n",
            "Hi Rameen, ill be waiting for you!\n"
          ]
        }
      ]
    },
    {
      "cell_type": "markdown",
      "source": [
        "**More Guests**"
      ],
      "metadata": {
        "id": "y0Jtvqd70OX6"
      }
    },
    {
      "cell_type": "code",
      "source": [
        "# Guests List\n",
        "\n",
        "guests=[\"Alina\",\"Sarah\",\"Myra\",\"Ammen\",\"Rameen\"]\n",
        "print(guests)\n",
        "\n",
        "# Inform about the bigger table\n",
        "print(\"New Announcemt:\\nWe found a bigger dinner table!\")\n",
        "\n",
        "# Add a new guest in the beginning\n",
        "guests.insert(0,\"Fariha\")\n",
        "\n",
        "# Add a new guest in the middle\n",
        "guests.insert(3,\"Rabia\")\n",
        "\n",
        "# Add a new guest at the end\n",
        "guests.append(\"Nazia\")\n",
        "print(\"\\nModified list:\")\n",
        "print(guests)\n",
        "\n",
        "# Print new invitations\n",
        "print(\"\\nNew invitations:\")\n",
        "for guest in guests:\n",
        "  if guest == \"Fariha\":\n",
        "    print(f\"Hello {guest}, I would like to invite you for dinner!\")\n",
        "  elif guest == \"Alina\":\n",
        "    print(f\"Dear {guest}, your presence will make this dinner special!\")\n",
        "  elif guest == \"Sarah\":\n",
        "    print(f\"Hey {guest}, please don't be late!\")\n",
        "  elif guest == \"Rabia\":\n",
        "    print(f\"{guest},You have no idea, how excited I am to see you!\")\n",
        "  elif guest == \"Myra\":\n",
        "    print(f\"Hi {guest}, I'll be waiting for you!\")\n",
        "  elif guest == \"Ammen\":\n",
        "    print(f\"Hey {guest}, Let’s have dinner together!\")\n",
        "  elif guest == \"Rameen\":\n",
        "    print(f\"Dear {guest}, Can't wait to meet you on dinner tomorrow!\")\n",
        "  elif guest == \"Nazia\":\n",
        "    print(f\"Hi {guest}, you are invited to dinner!\")\n",
        "\n"
      ],
      "metadata": {
        "colab": {
          "base_uri": "https://localhost:8080/"
        },
        "id": "sFyG0FEH0RZV",
        "outputId": "2b4667af-ce23-42dc-f5b4-3212d407987c"
      },
      "execution_count": null,
      "outputs": [
        {
          "output_type": "stream",
          "name": "stdout",
          "text": [
            "['Alina', 'Sarah', 'Myra', 'Ammen', 'Rameen']\n",
            "New Announcemt:\n",
            "We found a bigger dinner table!\n",
            "\n",
            "Modified list:\n",
            "['Fariha', 'Alina', 'Sarah', 'Rabia', 'Myra', 'Ammen', 'Rameen', 'Nazia']\n",
            "\n",
            "New invitations:\n",
            "Hello Fariha, I would like to invite you for dinner!\n",
            "Dear Alina, your presence will make this dinner special!\n",
            "Hey Sarah, please don't be late!\n",
            "Rabia,You have no idea, how excited I am to see you!\n",
            "Hi Myra, I'll be waiting for you!\n",
            "Hey Ammen, Let’s have dinner together!\n",
            "Dear Rameen, Can't wait to meet you on dinner tomorrow!\n",
            "Hi Nazia, you are invited to dinner!\n"
          ]
        }
      ]
    },
    {
      "cell_type": "markdown",
      "source": [
        "**Shrinking Guests List**"
      ],
      "metadata": {
        "id": "FpfFqXCR4xv2"
      }
    },
    {
      "cell_type": "code",
      "source": [
        "# Guests List\n",
        "guests=['Fariha', 'Alina', 'Sarah', 'Rabia', 'Myra', 'Ammen', 'Rameen', 'Nazia']\n",
        "print(guests)\n",
        "\n",
        "# New Announcement\n",
        "print(\"New Announcement:\\nI can only invite two people for dinner.\")\n",
        "\n",
        "# Removing guests from the list and sending apology messages\n",
        "guests.pop()\n",
        "print(\"Sorry Fariha, but I can't invite you to dinner.\")\n",
        "guests.pop()\n",
        "print(\"Sorry Alina, but I can't invite you to dinner.\")\n",
        "guests.pop()\n",
        "print(\"Sorry Sarah, but I can't invite you to dinner.\")\n",
        "guests.pop()\n",
        "print(\"Sorry Rabia, but I can't invite you to dinner.\")\n",
        "guests.pop()\n",
        "print(\"Sorry Myra, but I can't invite you to dinner.\")\n",
        "guests.pop()\n",
        "print(\"Sorry Ammen, but I can't invite you to dinner.\")\n",
        "\n",
        "# Modified List for dinner\n",
        "guests = ['Rameen','Nazia']\n",
        "print(\"\\nModified List for Dinner:\")\n",
        "print(guests)\n",
        "\n",
        "# New Invitations\n",
        "print(\"\\nNew Invitations:\")\n",
        "for guest in guests:\n",
        "  if guest == \"Rameen\":\n",
        "    print(f\"Hello {guest}, I would like to invite you for dinner!\")\n",
        "  elif guest == \"Nazia\":\n",
        "    print(f\"Dear {guest}, your presence will make this dinner special!\")\n",
        "\n",
        "# Removing the last two invited guests' names from the list\n",
        "del guests[0]\n",
        "del guests[0]\n",
        "\n",
        "# Final List\n",
        "print(\"\\nFinal List:\")\n",
        "print(guests)\n",
        "\n"
      ],
      "metadata": {
        "colab": {
          "base_uri": "https://localhost:8080/"
        },
        "id": "4VDJuK-e42EJ",
        "outputId": "4acbc0dd-8a09-4afa-b823-74fc47fb7d1c"
      },
      "execution_count": null,
      "outputs": [
        {
          "output_type": "stream",
          "name": "stdout",
          "text": [
            "['Fariha', 'Alina', 'Sarah', 'Rabia', 'Myra', 'Ammen', 'Rameen', 'Nazia']\n",
            "New Announcement:\n",
            "I can only invite two people for dinner.\n",
            "Sorry Fariha, but I can't invite you to dinner.\n",
            "Sorry Alina, but I can't invite you to dinner.\n",
            "Sorry Sarah, but I can't invite you to dinner.\n",
            "Sorry Rabia, but I can't invite you to dinner.\n",
            "Sorry Myra, but I can't invite you to dinner.\n",
            "Sorry Ammen, but I can't invite you to dinner.\n",
            "\n",
            "Modified List for Dinner:\n",
            "['Rameen', 'Nazia']\n",
            "\n",
            "New Invitations:\n",
            "Hello Rameen, I would like to invite you for dinner!\n",
            "Dear Nazia, your presence will make this dinner special!\n",
            "\n",
            "Final List:\n",
            "[]\n"
          ]
        }
      ]
    },
    {
      "cell_type": "markdown",
      "source": [
        "**Seeing the World**"
      ],
      "metadata": {
        "id": "KdBAyhK4-U1b"
      }
    },
    {
      "cell_type": "code",
      "source": [
        "# Places I like to visit in the world\n",
        "places = ['usa','australia', 'dubai', 'germany', 'china']\n",
        "print(places)\n",
        "\n",
        "# Places in alphabetical order\n",
        "print(\"Here is the sorted list:\\n\")\n",
        "print(sorted(places))\n",
        "print(\"\\nHere is the original list again:\\n\")\n",
        "print(places)\n",
        "\n",
        "# Places in reverse alphabetical order\n",
        "print(\"\\nHere is the reverse alphabetical list\")\n",
        "print(sorted(places, reverse=True))\n",
        "print(places)\n",
        "print(\"\\nHere is the original list again:\\n\")\n",
        "places.reverse()\n",
        "print(places)\n",
        "\n",
        "# Places in alphabetical order\n",
        "print(\"\\nHere is the sorted reversed list:\\n\")\n",
        "places.reverse()\n",
        "print(places)\n",
        "\n",
        "# Places in reverse alphabetical order\n",
        "print(\"\\nHere is the reverse sorted list:\\n\")\n",
        "places.sort(reverse=True)\n",
        "print(places)\n"
      ],
      "metadata": {
        "colab": {
          "base_uri": "https://localhost:8080/"
        },
        "id": "NiLeTrXR-Zgd",
        "outputId": "c3b0ad54-16c9-490b-af1b-ee42c540f91d"
      },
      "execution_count": null,
      "outputs": [
        {
          "output_type": "stream",
          "name": "stdout",
          "text": [
            "['usa', 'australia', 'dubai', 'germany', 'china']\n",
            "Here is the sorted list:\n",
            "\n",
            "['australia', 'china', 'dubai', 'germany', 'usa']\n",
            "\n",
            "Here is the original list again:\n",
            "\n",
            "['usa', 'australia', 'dubai', 'germany', 'china']\n",
            "\n",
            "Here is the reverse alphabetical list\n",
            "['usa', 'germany', 'dubai', 'china', 'australia']\n",
            "['usa', 'australia', 'dubai', 'germany', 'china']\n",
            "\n",
            "Here is the original list again:\n",
            "\n",
            "['china', 'germany', 'dubai', 'australia', 'usa']\n",
            "\n",
            "Here is the sorted reversed list:\n",
            "\n",
            "['usa', 'australia', 'dubai', 'germany', 'china']\n",
            "\n",
            "Here is the reverse sorted list:\n",
            "\n",
            "['usa', 'germany', 'dubai', 'china', 'australia']\n"
          ]
        }
      ]
    },
    {
      "cell_type": "markdown",
      "source": [
        "**Dinner Guests**"
      ],
      "metadata": {
        "id": "DdtR3spgEcVr"
      }
    },
    {
      "cell_type": "code",
      "source": [
        "# Guests List\n",
        "\n",
        "guests=[\"Alina\",\"Sarah\",\"Myra\",\"Ammen\",\"Rameen\"]\n",
        "print(guests)\n",
        "len(guests)\n",
        "\n",
        "# total number of guests\n",
        "total = len(guests)\n",
        "print(\"\\nTotal number of guests:\")\n",
        "print(total)\n",
        "\n",
        "# Message for the guests\n",
        "print(f\"Hello, {total} people are invited for dinner!\")\n"
      ],
      "metadata": {
        "colab": {
          "base_uri": "https://localhost:8080/"
        },
        "id": "G6JsPBXZEs4Q",
        "outputId": "8b226ff4-28bc-4421-b3d2-bfc1df17fc60"
      },
      "execution_count": null,
      "outputs": [
        {
          "output_type": "stream",
          "name": "stdout",
          "text": [
            "['Alina', 'Sarah', 'Myra', 'Ammen', 'Rameen']\n",
            "\n",
            "Total number of guests:\n",
            "5\n",
            "Hello, 5 people are invited for dinner!\n"
          ]
        }
      ]
    },
    {
      "cell_type": "markdown",
      "source": [
        "**Every Function**"
      ],
      "metadata": {
        "id": "qyQ_EjUlHBUY"
      }
    },
    {
      "cell_type": "code",
      "source": [
        "# List\n",
        "things = ['mountains','rivers', 'lands', 'oceans', 'cities', 'countries']\n",
        "print(things)\n",
        "\n",
        "# list functions\n",
        "\n",
        "# Sorted List\n",
        "print(\"\\nHere is the sorted list:\\n\")\n",
        "print(sorted(things))\n",
        "print(\"\\nHere is the original list again:\\n\")\n",
        "print(things)\n",
        "\n",
        "# list length\n",
        "print(\"\\nHere is the length of the list:\\n\")\n",
        "print(len(things))\n",
        "\n",
        "# reverse list\n",
        "print(\"\\nHere is the reverse list:\\n\")\n",
        "things.reverse()\n",
        "print(things)\n",
        "\n",
        "# reverse again list\n",
        "print(\"\\nHere is the reverse again list:\\n\")\n",
        "things.reverse()\n",
        "print(things)\n",
        "\n",
        "# append in list\n",
        "things.append('lakes')\n",
        "print(\"\\nHere is the append list:\\n\")\n",
        "print(things)\n",
        "\n",
        "# pop in list\n",
        "things.pop()\n",
        "print(\"\\nHere is the pop list:\\n\")\n",
        "print(things)\n",
        "\n",
        "# insert in list\n",
        "things.insert(0,'villages')\n",
        "print(\"\\nHere is the insert list:\\n\")\n",
        "print(things)\n",
        "\n",
        "# remove in list\n",
        "things.remove('mountains')\n",
        "print(\"\\nHere is the remove list:\\n\")\n",
        "print(things)\n",
        "\n",
        "# del in the list\n",
        "del things[4]\n",
        "print(\"\\nHere is the del list:\\n\")\n",
        "print(things)\n",
        "\n",
        "# replace by index\n",
        "things[1] = 'valleys'\n",
        "print(\"\\nHere is the replace list:\\n\")\n",
        "print(things)\n",
        "\n",
        "# replace by value\n",
        "things[things.index('lands')] = 'forests'\n",
        "print(\"\\nHere is the replace list:\\n\")\n",
        "print(things)\n"
      ],
      "metadata": {
        "colab": {
          "base_uri": "https://localhost:8080/"
        },
        "id": "jL-wHxdNHFq4",
        "outputId": "95b09780-5257-4c18-fb9b-b0a221def1be"
      },
      "execution_count": null,
      "outputs": [
        {
          "output_type": "stream",
          "name": "stdout",
          "text": [
            "['mountains', 'rivers', 'lands', 'oceans', 'cities', 'countries']\n",
            "\n",
            "Here is the sorted list:\n",
            "\n",
            "['cities', 'countries', 'lands', 'mountains', 'oceans', 'rivers']\n",
            "\n",
            "Here is the original list again:\n",
            "\n",
            "['mountains', 'rivers', 'lands', 'oceans', 'cities', 'countries']\n",
            "\n",
            "Here is the length of the list:\n",
            "\n",
            "6\n",
            "\n",
            "Here is the reverse list:\n",
            "\n",
            "['countries', 'cities', 'oceans', 'lands', 'rivers', 'mountains']\n",
            "\n",
            "Here is the reverse again list:\n",
            "\n",
            "['mountains', 'rivers', 'lands', 'oceans', 'cities', 'countries']\n",
            "\n",
            "Here is the append list:\n",
            "\n",
            "['mountains', 'rivers', 'lands', 'oceans', 'cities', 'countries', 'lakes']\n",
            "\n",
            "Here is the pop list:\n",
            "\n",
            "['mountains', 'rivers', 'lands', 'oceans', 'cities', 'countries']\n",
            "\n",
            "Here is the insert list:\n",
            "\n",
            "['villages', 'mountains', 'rivers', 'lands', 'oceans', 'cities', 'countries']\n",
            "\n",
            "Here is the remove list:\n",
            "\n",
            "['villages', 'rivers', 'lands', 'oceans', 'cities', 'countries']\n",
            "\n",
            "Here is the del list:\n",
            "\n",
            "['villages', 'rivers', 'lands', 'oceans', 'countries']\n",
            "\n",
            "Here is the replace list:\n",
            "\n",
            "['villages', 'valleys', 'lands', 'oceans', 'countries']\n"
          ]
        }
      ]
    },
    {
      "cell_type": "markdown",
      "source": [
        "**Intentional Error**"
      ],
      "metadata": {
        "id": "SAUbt33_KbT9"
      }
    },
    {
      "cell_type": "code",
      "source": [
        "# List from the previous example (with some modifications)\n",
        "places = [\"Mount Everest\", \"Nile\", \"France\", \"Paris\", \"Mandarin\", \"Himalayas\", \"Amazon\", \"Canada\", \"Tokyo\", \"English\"]\n",
        "\n",
        "# Intentionally trying to access an invalid index (this will cause an IndexError)\n",
        "# This will be modified to fix the error\n",
        "print(len(places))\n",
        "\n"
      ],
      "metadata": {
        "colab": {
          "base_uri": "https://localhost:8080/"
        },
        "id": "U3i7W4gXKfOb",
        "outputId": "9dcd6c74-e59e-437a-f1e3-a1b9901816c0"
      },
      "execution_count": null,
      "outputs": [
        {
          "output_type": "stream",
          "name": "stdout",
          "text": [
            "10\n",
            "This will never be printed\n"
          ]
        }
      ]
    },
    {
      "cell_type": "markdown",
      "source": [],
      "metadata": {
        "id": "Nuk3wsWqH-Bu"
      }
    },
    {
      "cell_type": "markdown",
      "source": [],
      "metadata": {
        "id": "qseAmWpLHa5t"
      }
    }
  ]
}